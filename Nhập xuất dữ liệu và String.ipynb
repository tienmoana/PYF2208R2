{
 "cells": [
  {
   "cell_type": "markdown",
   "id": "7ac14915",
   "metadata": {},
   "source": [
    "# Nhập xuất dữ liệu và String\n",
    "## Cách nhập xuất dữ liệu"
   ]
  },
  {
   "cell_type": "markdown",
   "id": "0f202ae8",
   "metadata": {},
   "source": [
    "### Xuất dữ liệu ra màn hình\n",
    "Để in các nội dung mà chúng ta mong muốn ra màn hình, ta sử dụng lệnh print()"
   ]
  },
  {
   "cell_type": "code",
   "execution_count": 1,
   "id": "a6d3f260",
   "metadata": {},
   "outputs": [
    {
     "name": "stdout",
     "output_type": "stream",
     "text": [
      "python is very easy\n"
     ]
    }
   ],
   "source": [
    "# Ví dụ: In ra nội dung \"python is very easy\"\n",
    "print(\"python is very easy\")"
   ]
  },
  {
   "cell_type": "markdown",
   "id": "7733925a",
   "metadata": {},
   "source": [
    "### Các cách custom với lệnh print"
   ]
  },
  {
   "cell_type": "markdown",
   "id": "292ab570",
   "metadata": {},
   "source": [
    "Để in một nội dung kèm theo giá trị của biến, ta có các cách sau:"
   ]
  },
  {
   "cell_type": "code",
   "execution_count": 5,
   "id": "20ff912c",
   "metadata": {},
   "outputs": [],
   "source": [
    "food_1 = \"cookies\"\n",
    "food_2 = \"sandwich\"\n",
    "\n",
    "# I love chocolate and I hate sandwich\n",
    "# \"I love\" --food_1-- \"and I hate \" --food_2--"
   ]
  },
  {
   "cell_type": "code",
   "execution_count": 2,
   "id": "6407a448",
   "metadata": {},
   "outputs": [
    {
     "name": "stdout",
     "output_type": "stream",
     "text": [
      "I love chocolate and I hate sandwich\n"
     ]
    }
   ],
   "source": [
    "# In trực tiếp\n",
    "print(\"I love chocolate and I hate sandwich\")"
   ]
  },
  {
   "cell_type": "code",
   "execution_count": 7,
   "id": "27d098b8",
   "metadata": {},
   "outputs": [
    {
     "name": "stdout",
     "output_type": "stream",
     "text": [
      "I love cookies and I hate sandwich\n"
     ]
    }
   ],
   "source": [
    "# In bằng cách ghép các nội dung với nhau\n",
    "print(\"I love\", food_1, \"and I hate\", food_2)"
   ]
  },
  {
   "cell_type": "code",
   "execution_count": 8,
   "id": "717666f2",
   "metadata": {},
   "outputs": [
    {
     "name": "stdout",
     "output_type": "stream",
     "text": [
      "I love cookies and I hate sandwich\n"
     ]
    }
   ],
   "source": [
    "# Sử dụng String Format\n",
    "# tu f co nghia la format -- long bien\n",
    "print(f'I love {food_1} and I hate {food_2}')"
   ]
  },
  {
   "cell_type": "code",
   "execution_count": 11,
   "id": "c7276e05",
   "metadata": {},
   "outputs": [
    {
     "name": "stdout",
     "output_type": "stream",
     "text": [
      "I love cookies and I hate sandwich\n"
     ]
    }
   ],
   "source": [
    "# Sử dụng nhiều lệnh print\n",
    "# dau \\n la xuong dong\n",
    "print(\"I love\", end = \" \")\n",
    "print(food_1, end = \" \")\n",
    "print(\"and I hate\", end = \" \")\n",
    "print(food_2)"
   ]
  },
  {
   "cell_type": "markdown",
   "id": "e10788fb",
   "metadata": {},
   "source": [
    "### Nhập dữ liệu\n",
    "Để nhập dữ liệu vào chương trình python, chúng ta sử dụng hàm input()"
   ]
  },
  {
   "cell_type": "code",
   "execution_count": 2,
   "id": "b8b8afd3",
   "metadata": {},
   "outputs": [
    {
     "name": "stdout",
     "output_type": "stream",
     "text": [
      "please input your name: Tien\n",
      "Tien\n",
      "<class 'str'>\n"
     ]
    }
   ],
   "source": [
    "name = input(\"please input your name: \")\n",
    "print(name)\n",
    "print(type(name))"
   ]
  },
  {
   "cell_type": "code",
   "execution_count": 4,
   "id": "b145270d",
   "metadata": {},
   "outputs": [
    {
     "name": "stdout",
     "output_type": "stream",
     "text": [
      "Please input your kahoot mark: 1234\n",
      "1234\n",
      "<class 'int'>\n"
     ]
    }
   ],
   "source": [
    "# thao tac ep kieu nhap so nguyen\n",
    "score = int(input(\"Please input your kahoot mark: \"))\n",
    "print(score)\n",
    "print(type(score))"
   ]
  },
  {
   "cell_type": "markdown",
   "id": "337f9c15",
   "metadata": {},
   "source": [
    "#### Thực hành: Viết chương trình nhập vào chiều dài và chiều rộng của hình chữ nhật, sau đó in ra chu vi và diện tích của hình chữ nhật đó"
   ]
  },
  {
   "cell_type": "code",
   "execution_count": 6,
   "id": "add68103",
   "metadata": {},
   "outputs": [
    {
     "name": "stdout",
     "output_type": "stream",
     "text": [
      "nhap chieu dai hinh chu nhat: 10\n",
      "nhap chieu rong hinh chu nhat: 5\n"
     ]
    }
   ],
   "source": [
    "# Nhập các kích thước của hình chữ nhật\n",
    "chieu_dai = int(input(\"nhap chieu dai hinh chu nhat: \"))\n",
    "chieu_rong = int(input(\"nhap chieu rong hinh chu nhat: \"))"
   ]
  },
  {
   "cell_type": "code",
   "execution_count": 8,
   "id": "7a1cd73e",
   "metadata": {},
   "outputs": [],
   "source": [
    "# Tính toán chu vi, diện tích\n",
    "chu_vi = (chieu_dai + chieu_rong) * 2\n",
    "dien_tich = chieu_dai * chieu_rong"
   ]
  },
  {
   "cell_type": "code",
   "execution_count": 19,
   "id": "d0adf735",
   "metadata": {},
   "outputs": [
    {
     "name": "stdout",
     "output_type": "stream",
     "text": [
      "chu vi: 30 , dien tich: 50\n",
      "chu vi: 30 , dien tich: 50\n"
     ]
    }
   ],
   "source": [
    "# In kết quả ra màn hình bằng 3 cách\n",
    "\n",
    "# cach 1\n",
    "print(\"chu vi:\", chu_vi, \", dien tich:\", dien_tich)\n",
    "\n",
    "# cach 2\n",
    "print(\"dien tich hinh chu nhat la: \", end = \" \")\n",
    "print(\"chu vi hinh chu nhat la: \", end = \" \")\n",
    "\n",
    "# cach 3\n",
    "print(f'chu vi: {chu_vi} , dien tich: {dien_tich}')\n"
   ]
  },
  {
   "cell_type": "markdown",
   "id": "fb54cb77",
   "metadata": {},
   "source": [
    "#### Thực hành: Viết chương trình nhập vào số đo cạnh và mã màu của tam giác đều, sau đó sử dụng turtle để vẽ ra hình tam giác có số đo và màu tương ứng"
   ]
  },
  {
   "cell_type": "code",
   "execution_count": null,
   "id": "7583b308",
   "metadata": {},
   "outputs": [
    {
     "name": "stdout",
     "output_type": "stream",
     "text": [
      "nhap so do canh tam giac deu: 200\n",
      "nhap ma mau: blue\n"
     ]
    }
   ],
   "source": [
    "canh = int(input(\"nhap so do canh tam giac deu: \"))\n",
    "ma_mau = input(\"nhap ma mau: \")\n",
    "import turtle\n",
    "pen = turtle.Turtle()\n",
    "\n",
    "pen.fillcolor(ma_mau)\n",
    "pen.begin_fill()\n",
    "for i in range (3):\n",
    "    pen.forward(canh)\n",
    "    pen.left(120)\n",
    "pen.end_fill()\n",
    "turtle.done()"
   ]
  },
  {
   "cell_type": "code",
   "execution_count": 2,
   "id": "2c691b74",
   "metadata": {},
   "outputs": [
    {
     "name": "stdout",
     "output_type": "stream",
     "text": [
      "nhap so do canh tam giac deu: 100\n",
      "nhap ma mau: yellow\n"
     ]
    }
   ],
   "source": [
    "canh = int(input(\"nhap so do canh tam giac deu: \"))\n",
    "ma_mau = input(\"nhap ma mau: \")\n",
    "import turtle\n",
    "pen = turtle.Turtle()\n",
    "\n",
    "pen.fillcolor(ma_mau)\n",
    "pen.begin_fill()\n",
    "pen.circle(canh, steps=3)\n",
    "pen.end_fill()\n",
    "turtle.done()"
   ]
  },
  {
   "cell_type": "markdown",
   "id": "fa7cb208",
   "metadata": {},
   "source": [
    "## Cú pháp import"
   ]
  },
  {
   "cell_type": "markdown",
   "id": "ab2a2ea5",
   "metadata": {},
   "source": [
    "Để sử dụng một module từ bên ngoài, chúng ta sẽ sử dụng từ khóa import. Sau đây là ví dụ về một số cách import phổ biến."
   ]
  },
  {
   "cell_type": "markdown",
   "id": "bd6de377",
   "metadata": {},
   "source": [
    "### Random một giá trị ngẫu nhiên"
   ]
  },
  {
   "cell_type": "code",
   "execution_count": null,
   "id": "ce5547f5",
   "metadata": {},
   "outputs": [],
   "source": []
  },
  {
   "cell_type": "markdown",
   "id": "dfa93dc0",
   "metadata": {},
   "source": [
    "### Thực hiện các phép toán số học"
   ]
  },
  {
   "cell_type": "code",
   "execution_count": 8,
   "id": "4f06f722",
   "metadata": {},
   "outputs": [],
   "source": [
    "# import toàn bộ module"
   ]
  },
  {
   "cell_type": "code",
   "execution_count": null,
   "id": "6b9e471b",
   "metadata": {},
   "outputs": [],
   "source": [
    "# import một phần trong module"
   ]
  },
  {
   "cell_type": "markdown",
   "id": "391969e7",
   "metadata": {},
   "source": [
    "## Xử lý String trong python"
   ]
  },
  {
   "cell_type": "markdown",
   "id": "ab461669",
   "metadata": {},
   "source": [
    "### String là gì?\n",
    "String là một chuỗi gồm các ký tự Unicode"
   ]
  },
  {
   "cell_type": "markdown",
   "id": "94a27b90",
   "metadata": {},
   "source": [
    "### Khởi tạo một string"
   ]
  },
  {
   "cell_type": "code",
   "execution_count": 4,
   "id": "b14f4fcc",
   "metadata": {},
   "outputs": [],
   "source": [
    "# one-line string\n",
    "course_name = \"python Fundamental\""
   ]
  },
  {
   "cell_type": "code",
   "execution_count": 3,
   "id": "9cc506a7",
   "metadata": {},
   "outputs": [],
   "source": [
    "# multi-line string - chu thich, mo ta noi dung dang van ban dai hon\n",
    "lesson_detail = \"\"\"Ket thuc bai hoc nay, ban co the: \n",
    "- Biet cach input du lieu\n",
    "- Biet cach print du lieu\n",
    "- BIet cach xu ly string\n",
    "\"\"\""
   ]
  },
  {
   "cell_type": "markdown",
   "id": "8f4270fd",
   "metadata": {},
   "source": [
    "### Các thao tác phổ biến với string"
   ]
  },
  {
   "cell_type": "code",
   "execution_count": 8,
   "id": "c825f890",
   "metadata": {},
   "outputs": [
    {
     "name": "stdout",
     "output_type": "stream",
     "text": [
      "19\n"
     ]
    }
   ],
   "source": [
    "# Kiểm tra độ dài string\n",
    "print(len(course_name))"
   ]
  },
  {
   "cell_type": "code",
   "execution_count": null,
   "id": "b8d99b79",
   "metadata": {},
   "outputs": [],
   "source": [
    "# hinh anh\n"
   ]
  },
  {
   "cell_type": "code",
   "execution_count": 11,
   "id": "6de96621",
   "metadata": {},
   "outputs": [
    {
     "name": "stdout",
     "output_type": "stream",
     "text": [
      "o\n",
      "o\n"
     ]
    }
   ],
   "source": [
    "# Truy xuất ký tự bằng cơ chế indexing và reverse indexing\n",
    "content = \"hello\"\n",
    "\n",
    "#indexing\n",
    "print(content[4])\n",
    "\n",
    "#reverse indexing\n",
    "print(content[-1])"
   ]
  },
  {
   "cell_type": "code",
   "execution_count": null,
   "id": "be4cf00d",
   "metadata": {},
   "outputs": [],
   "source": []
  },
  {
   "cell_type": "markdown",
   "id": "a4f949d9",
   "metadata": {},
   "source": [
    "#### Thực hành: Viết chương trình nhập vào một chuỗi bất kỳ, sau đó in ra ký tự đầu tiên và ký tự cuối cùng của chuỗi đó."
   ]
  },
  {
   "cell_type": "code",
   "execution_count": 14,
   "id": "14833f18",
   "metadata": {},
   "outputs": [
    {
     "name": "stdout",
     "output_type": "stream",
     "text": [
      "nhap tu can timtien\n",
      "t\n",
      "n\n"
     ]
    }
   ],
   "source": [
    "chuoi = input(\"nhap tu can tim\")\n",
    "print(chuoi[0])\n",
    "print(chuoi[-1])"
   ]
  },
  {
   "cell_type": "code",
   "execution_count": 1,
   "id": "9aad2f16",
   "metadata": {},
   "outputs": [
    {
     "name": "stdout",
     "output_type": "stream",
     "text": [
      "Tien\n"
     ]
    }
   ],
   "source": [
    "# Cắt string theo index - chỉ định vị trí sau kết thúc\n",
    "content = \"Tien,python,2-4-6,string\"\n",
    "print(content[0:4])"
   ]
  },
  {
   "cell_type": "code",
   "execution_count": 2,
   "id": "809b0c68",
   "metadata": {},
   "outputs": [
    {
     "name": "stdout",
     "output_type": "stream",
     "text": [
      "Te,yh\n",
      "Tnyo2-si\n",
      "gnirts,6-4-2,nohtyp,neiT\n"
     ]
    }
   ],
   "source": [
    "# Cắt string nhảy bước - số 2 thì mỗi lần cắt sẽ nhảy 2 kí tự\n",
    "# cú pháp: <tên biến>[start:end:bước nhảy]\n",
    "\n",
    "content = \"Tien,python,2-4-6,string\"\n",
    "print(content[0:10:2])\n",
    "# print(content[0:len(content):3])\n",
    "print(content[::3])\n",
    "# : đầu tiên mặc định là 0, thứ 2 mặc định là cuối bước nhảy là 3\n",
    "print(content[::-1]) # đảo ngược chuỗi cần ghi nhớ"
   ]
  },
  {
   "cell_type": "code",
   "execution_count": 4,
   "id": "6ec63f90",
   "metadata": {},
   "outputs": [
    {
     "name": "stdout",
     "output_type": "stream",
     "text": [
      "helloworld\n",
      "hellohellohello\n"
     ]
    }
   ],
   "source": [
    "# Ghép chuỗi và lặp chuỗi\n",
    "a = \"hello\"\n",
    "b = \"world\"\n",
    "print(a + b) # ghép chuỗi\n",
    "print(a * 3) # lặp chuỗi"
   ]
  },
  {
   "cell_type": "markdown",
   "id": "84c2dcb9",
   "metadata": {},
   "source": [
    "#### Thực hành: Xử lý và in ra các thông tin tương ứng trong chuỗi"
   ]
  },
  {
   "cell_type": "code",
   "execution_count": 10,
   "id": "cd71f135",
   "metadata": {},
   "outputs": [
    {
     "name": "stdout",
     "output_type": "stream",
     "text": [
      "Tien\n",
      "python\n",
      "2-4-6\n",
      "string\n"
     ]
    }
   ],
   "source": [
    "content = \"Tien,python,2-4-6,string1\"\n",
    "print(content[:4])\n",
    "print(content[5:11])\n",
    "print(content[12:17])\n",
    "print(content[18:-1])"
   ]
  },
  {
   "cell_type": "markdown",
   "id": "7cbd965f",
   "metadata": {},
   "source": [
    "### Các hàm thông dụng khi xử lý string"
   ]
  },
  {
   "cell_type": "code",
   "execution_count": 12,
   "id": "eb5932a1",
   "metadata": {},
   "outputs": [
    {
     "data": {
      "text/plain": [
       "19"
      ]
     },
     "execution_count": 12,
     "metadata": {},
     "output_type": "execute_result"
    }
   ],
   "source": [
    "# built-in functions: hàm có sẵn\n",
    "\n",
    "# len\n",
    "content = \"Python fundermental\"\n",
    "len(content)"
   ]
  },
  {
   "cell_type": "code",
   "execution_count": 15,
   "id": "6bef6d33",
   "metadata": {},
   "outputs": [
    {
     "name": "stdout",
     "output_type": "stream",
     "text": [
      "3\n",
      "1\n"
     ]
    }
   ],
   "source": [
    "# count\n",
    "print(content.count(\"n\"))\n",
    "print(content.count(\"Python\"))"
   ]
  },
  {
   "cell_type": "code",
   "execution_count": 20,
   "id": "1582bbd8",
   "metadata": {},
   "outputs": [
    {
     "name": "stdout",
     "output_type": "stream",
     "text": [
      "PYTHON FUNDAMENTAL\n",
      "python fundamental\n",
      "Python fundamental\n"
     ]
    }
   ],
   "source": [
    "# upper, lower\n",
    "content = \"PythOn fundAmental\"\n",
    "print(content.upper())\n",
    "print(content.lower())\n",
    "print(content.capitalize())"
   ]
  },
  {
   "cell_type": "code",
   "execution_count": 21,
   "id": "0d08f708",
   "metadata": {},
   "outputs": [
    {
     "name": "stdout",
     "output_type": "stream",
     "text": [
      "Python         Fundamental            \n",
      "          Python         Fundamental\n",
      "Python         Fundamental\n"
     ]
    }
   ],
   "source": [
    "# lstrip, rstrip, strip\n",
    "content = '          Python         Fundamental            '\n",
    "# string with trailling spaces\n",
    "print(content.lstrip())\n",
    "print(content.rstrip())\n",
    "print(content.strip())"
   ]
  },
  {
   "cell_type": "code",
   "execution_count": 24,
   "id": "62180d52",
   "metadata": {},
   "outputs": [
    {
     "name": "stdout",
     "output_type": "stream",
     "text": [
      "['Tien', 'python', '2-4-6', 'string1']\n"
     ]
    }
   ],
   "source": [
    "# split\n",
    "content = \"Tien,python,2-4-6,string1\"\n",
    "print(content.split(\",\"))"
   ]
  },
  {
   "cell_type": "markdown",
   "id": "032ba1fc",
   "metadata": {},
   "source": []
  }
 ],
 "metadata": {
  "kernelspec": {
   "display_name": "Python 3 (ipykernel)",
   "language": "python",
   "name": "python3"
  },
  "language_info": {
   "codemirror_mode": {
    "name": "ipython",
    "version": 3
   },
   "file_extension": ".py",
   "mimetype": "text/x-python",
   "name": "python",
   "nbconvert_exporter": "python",
   "pygments_lexer": "ipython3",
   "version": "3.10.7"
  }
 },
 "nbformat": 4,
 "nbformat_minor": 5
}
