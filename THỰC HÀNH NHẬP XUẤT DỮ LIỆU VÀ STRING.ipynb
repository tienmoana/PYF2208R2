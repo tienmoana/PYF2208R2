{
 "cells": [
  {
   "cell_type": "markdown",
   "id": "b45fac20",
   "metadata": {},
   "source": [
    "## Bài 1: \n",
    "#Viết chương trình nhập vào một chuỗi và in ra các ký tự cso index là số chẵn trong chuỗi\n",
    "\n",
    "#VD: str - python\n",
    "\n",
    " output pto\n"
   ]
  },
  {
   "cell_type": "code",
   "execution_count": 7,
   "id": "3321444f",
   "metadata": {},
   "outputs": [
    {
     "name": "stdout",
     "output_type": "stream",
     "text": [
      "Nhập chuỗi ký tự bất kí: Nguyễn Lê Thanh Tiền\n",
      "Nuễ êTahTề\n"
     ]
    }
   ],
   "source": [
    "content = input(\"Nhập chuỗi ký tự bất kí: \")\n",
    "print(content[::2])"
   ]
  },
  {
   "cell_type": "markdown",
   "id": "b863baff",
   "metadata": {},
   "source": [
    "## Bài 2\n",
    "Nhập một số đo ở đơn vị mét, in ra số đo vừa nhập ở đơn vị xen-ti-met (cm)"
   ]
  },
  {
   "cell_type": "code",
   "execution_count": 21,
   "id": "74f5a8e8",
   "metadata": {},
   "outputs": [
    {
     "name": "stdout",
     "output_type": "stream",
     "text": [
      "nhập một số bất kì đơn vị m: 12\n",
      "12.0m - 1200.0cm\n"
     ]
    }
   ],
   "source": [
    "m = float(input(\"nhập một số bất kì đơn vị m: \"))\n",
    "cm = m * 100\n",
    "print(f'{m}m - {cm}cm')"
   ]
  },
  {
   "cell_type": "markdown",
   "id": "05e8a19c",
   "metadata": {},
   "source": [
    "## Bài 3\n",
    "Nhập vào 'tien_luong_theo_gio' và 'so_gio' trong 1 tháng và 'tien_thuong'. Sau đó in ra tôngr thu nhập trong tháng biết rằng tổng thu nhập bằng tiền lương theo giờ * số giờ + tiền thưởng"
   ]
  },
  {
   "cell_type": "code",
   "execution_count": 25,
   "id": "2fb78ed4",
   "metadata": {},
   "outputs": [
    {
     "name": "stdout",
     "output_type": "stream",
     "text": [
      "Nhập tiền lương theo giờ: 200000\n",
      "Nhập số giờ làm việc: 30\n",
      "Nhập tiền thưởng: 1000000\n",
      "Tổng thu nhập là: 7000000.0 VND\n"
     ]
    }
   ],
   "source": [
    "tien_luong_theo_gio = float(input(\"Nhập tiền lương theo giờ: \"))\n",
    "so_gio = float(input(\"Nhập số giờ làm việc: \"))\n",
    "tien_thuong = float(input(\"Nhập tiền thưởng: \"))\n",
    "tong_thu_nhap = tien_luong_theo_gio * so_gio + tien_thuong\n",
    "print(f\"Tổng thu nhập là: {tong_thu_nhap} VND\")"
   ]
  },
  {
   "cell_type": "markdown",
   "id": "ca76c367",
   "metadata": {},
   "source": [
    "## Bài 4\n",
    "Nhập vào một 'string' và một số 'x', Hãy xóa các kí tự đầu tiên của 'sring'.\n",
    "vd: sring = 'Hello Python;, x = 3\n",
    "output: loPython"
   ]
  },
  {
   "cell_type": "code",
   "execution_count": 29,
   "id": "16693b89",
   "metadata": {},
   "outputs": [
    {
     "name": "stdout",
     "output_type": "stream",
     "text": [
      "Nhập vào một string: hello world\n",
      "Nhập vào một số: 4\n",
      "o world\n"
     ]
    }
   ],
   "source": [
    "string = input(\"Nhập vào một string: \")\n",
    "x = int(input(\"Nhập vào một số: \"))\n",
    "print(string[x:])\n",
    "# kỹ hơn thì nên làm từng bước 1"
   ]
  },
  {
   "cell_type": "markdown",
   "id": "71bcbde6",
   "metadata": {},
   "source": [
    "## Bài 5\n",
    "NHập vào 1 'string' kiểm tra xem đây có phải là một 'string' đối xứng hay không\n",
    "Note: chuỗi đối xứng là chuỗi có thứ tự giống nhau khi đọc từ trái sang phải và ngược lại\n",
    "ví dụ:\n",
    "- abba\n",
    "- abcdcba"
   ]
  },
  {
   "cell_type": "code",
   "execution_count": 42,
   "id": "4a70abc2",
   "metadata": {},
   "outputs": [
    {
     "name": "stdout",
     "output_type": "stream",
     "text": [
      "Nhập vào một string: abccba\n"
     ]
    },
    {
     "data": {
      "text/plain": [
       "True"
      ]
     },
     "execution_count": 42,
     "metadata": {},
     "output_type": "execute_result"
    }
   ],
   "source": [
    "string = input(\"Nhập vào một string: \")\n",
    "reversed_string = string[::-1]\n",
    "string == reversed"
   ]
  }
 ],
 "metadata": {
  "kernelspec": {
   "display_name": "Python 3 (ipykernel)",
   "language": "python",
   "name": "python3"
  },
  "language_info": {
   "codemirror_mode": {
    "name": "ipython",
    "version": 3
   },
   "file_extension": ".py",
   "mimetype": "text/x-python",
   "name": "python",
   "nbconvert_exporter": "python",
   "pygments_lexer": "ipython3",
   "version": "3.10.7"
  }
 },
 "nbformat": 4,
 "nbformat_minor": 5
}
