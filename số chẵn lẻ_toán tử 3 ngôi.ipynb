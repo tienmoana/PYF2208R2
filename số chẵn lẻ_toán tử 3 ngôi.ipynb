{
 "cells": [
  {
   "cell_type": "code",
   "execution_count": 1,
   "id": "0936253d",
   "metadata": {},
   "outputs": [
    {
     "name": "stdout",
     "output_type": "stream",
     "text": [
      "Nhập vào số nguyên: 3\n",
      "3 là số lẻ\n"
     ]
    }
   ],
   "source": [
    "# Nhập vào 1 số nguyên bất kì. Kiểm tra số nguyên nhập vào có chia hết cho 2 hay không?\n",
    "\n",
    "# Nếu chia hết cho 2: số chẵn\n",
    "# Nếu không chia hết cho 2 có dư : số lẻ\n",
    "\n",
    "number = int(input(\"Nhập vào số nguyên: \"))\n",
    "if not number % 2:\n",
    "    print(f\"{number} là số chẵn\")\n",
    "else:\n",
    "    print(f\"{number} là số lẻ\")\n"
   ]
  }
 ],
 "metadata": {
  "kernelspec": {
   "display_name": "Python 3 (ipykernel)",
   "language": "python",
   "name": "python3"
  },
  "language_info": {
   "codemirror_mode": {
    "name": "ipython",
    "version": 3
   },
   "file_extension": ".py",
   "mimetype": "text/x-python",
   "name": "python",
   "nbconvert_exporter": "python",
   "pygments_lexer": "ipython3",
   "version": "3.10.7"
  }
 },
 "nbformat": 4,
 "nbformat_minor": 5
}
